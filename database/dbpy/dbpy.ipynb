{
 "cells": [
  {
   "cell_type": "code",
   "execution_count": 128,
   "metadata": {},
   "outputs": [],
   "source": [
    "import sqlite3\n",
    "from sqlite3 import Error\n",
    "import json"
   ]
  },
  {
   "cell_type": "code",
   "execution_count": 129,
   "metadata": {},
   "outputs": [
    {
     "name": "stdout",
     "output_type": "stream",
     "text": [
      "clients_periods\n",
      "records\n"
     ]
    }
   ],
   "source": [
    "import sqlite3\n",
    "from sqlite3 import Error\n",
    "\n",
    "\n",
    "def create_connection(db_file):\n",
    "    \"\"\" create a database connection to the SQLite database\n",
    "        specified by db_file\n",
    "    :param db_file: database file\n",
    "    :return: Connection object or None\n",
    "    \"\"\"\n",
    "    conn = None\n",
    "    try:\n",
    "        conn = sqlite3.connect(db_file)\n",
    "        return conn\n",
    "    except Error as e:\n",
    "        print(e)\n",
    "\n",
    "    return conn\n",
    "\n",
    "\n",
    "def create_client_periods_table(conn):\n",
    "    create_table_sql=\"\"\"CREATE TABLE IF NOT EXISTS clients_periods (\n",
    "    id INTEGER PRIMARY KEY AUTOINCREMENT,\n",
    "    client_id TEXT NOT NULL,\n",
    "    period_end TEXT NOT NULL,\n",
    "    attribution INTEGER,\n",
    "    total_customers INTEGER,\n",
    "    contribution_rate REAL\n",
    ");\"\"\"\n",
    "    try:\n",
    "        c = conn.cursor()\n",
    "        c.execute(create_table_sql)\n",
    "    except Error as e:\n",
    "        print(e)\n",
    "\n",
    "\n",
    "def create_records_table(conn):\n",
    "    create_table_sql=\"\"\"\n",
    "    CREATE TABLE IF NOT EXISTS records(\n",
    "        id INTEGER PRIMARY KEY,\n",
    "        source TEXT NOT NULL,\n",
    "        source_type TEXT NOT NULL,\n",
    "        attributed BOOL,\n",
    "        customers INTEGER\n",
    "    );\n",
    "    \"\"\"\n",
    "    try:\n",
    "        c = conn.cursor()\n",
    "        c.execute(create_table_sql)\n",
    "    except Error as e:\n",
    "        print(e)\n",
    "\n",
    "def list_tables(conn):\n",
    "    try:\n",
    "        cursor = conn.cursor()\n",
    "        cursor.execute(\"SELECT name FROM sqlite_master WHERE type='table';\")\n",
    "        tables = cursor.fetchall()\n",
    "        return [table[0] for table in tables]\n",
    "    except sqlite3.Error as e:\n",
    "        print(\"Error:\", e)\n",
    "        return []\n",
    "\n",
    "conn = create_connection(\"/home/cristi/Documents/practica/database/ClientDB/Clients.db\")\n",
    "create_client_periods_table(conn)\n",
    "create_records_table(conn)\n",
    "tables = list_tables(conn)\n",
    "for table in tables:\n",
    "    print(table)"
   ]
  },
  {
   "cell_type": "code",
   "execution_count": 130,
   "metadata": {},
   "outputs": [],
   "source": [
    "def insert_to_clients_periods(conn, data):\n",
    "    insertion_str = \"\"\"INSERT INTO clients_periods (period_end, client_id, attributed_customers, unattributed_customers, contribution_rate) VALUES (?, ?, ?, ?, ?)\"\"\"\n",
    "    cur = conn.cursor()\n",
    "    cur.executemany(insertion_str, data)\n",
    "    conn.commit()\n"
   ]
  },
  {
   "cell_type": "code",
   "execution_count": 131,
   "metadata": {},
   "outputs": [],
   "source": [
    "def load_from_json_to_db(conn):\n",
    "    client_records = []\n",
    "    with open(\"/home/cristi/Documents/practica/clients_per_day.json\", 'r') as f:\n",
    "        client_json = json.load(f)\n",
    "    for client_id in client_json:\n",
    "        for period in client_json[client_id]:\n",
    "            date = period\n",
    "            attribution = client_json[client_id][period][\"attribution\"]\n",
    "            customers = client_json[client_id][period][\"customers\"]\n",
    "            cr = client_json[client_id][period][\"CR\"]\n",
    "            client_records.append((date, client_id, attribution, customers, cr))  # Reorder the values\n",
    "    return client_records\n"
   ]
  },
  {
   "cell_type": "code",
   "execution_count": 132,
   "metadata": {},
   "outputs": [
    {
     "name": "stdout",
     "output_type": "stream",
     "text": [
      "('2023-01-05T08:00:00+0000', '1446518931', 1, 160, 0.625)\n"
     ]
    }
   ],
   "source": [
    "clients_periods_table=load_from_json_to_db(conn)\n",
    "print(clients_periods_table[3])\n",
    "insert_to_clients_periods(conn,clients_periods_table)"
   ]
  }
 ],
 "metadata": {
  "kernelspec": {
   "display_name": "Python 3",
   "language": "python",
   "name": "python3"
  },
  "language_info": {
   "codemirror_mode": {
    "name": "ipython",
    "version": 3
   },
   "file_extension": ".py",
   "mimetype": "text/x-python",
   "name": "python",
   "nbconvert_exporter": "python",
   "pygments_lexer": "ipython3",
   "version": "3.11.5"
  },
  "orig_nbformat": 4
 },
 "nbformat": 4,
 "nbformat_minor": 2
}
