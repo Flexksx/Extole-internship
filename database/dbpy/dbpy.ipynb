{
 "cells": [
  {
   "cell_type": "code",
   "execution_count": 1,
   "metadata": {},
   "outputs": [],
   "source": [
    "import sqlite3\n",
    "from sqlite3 import Error\n",
    "import json"
   ]
  },
  {
   "cell_type": "code",
   "execution_count": 2,
   "metadata": {},
   "outputs": [
    {
     "name": "stdout",
     "output_type": "stream",
     "text": [
      "clients_periods\n",
      "records\n"
     ]
    }
   ],
   "source": [
    "import sqlite3\n",
    "from sqlite3 import Error\n",
    "\n",
    "\n",
    "def create_connection(db_file):\n",
    "    \"\"\" create a database connection to the SQLite database\n",
    "        specified by db_file\n",
    "    :param db_file: database file\n",
    "    :return: Connection object or None\n",
    "    \"\"\"\n",
    "    conn = None\n",
    "    try:\n",
    "        conn = sqlite3.connect(db_file)\n",
    "        return conn\n",
    "    except Error as e:\n",
    "        print(e)\n",
    "\n",
    "    return conn\n",
    "\n",
    "\n",
    "def create_client_periods_table(conn):\n",
    "    create_table_sql=\"\"\"CREATE TABLE IF NOT EXISTS clients_periods (\n",
    "\tid INTEGER PRIMARY KEY,\n",
    "\tperiod_end TEXT NOT NULL,\n",
    "\tclient_id TEXT NOT NULL,\n",
    "\tattributed_customers INTEGER,\n",
    "\tunattributed_customers INTEGER,\n",
    "    contribution_rate REAL\n",
    ");\"\"\"\n",
    "    try:\n",
    "        c = conn.cursor()\n",
    "        c.execute(create_table_sql)\n",
    "    except Error as e:\n",
    "        print(e)\n",
    "\n",
    "\n",
    "def create_records_table(conn):\n",
    "    create_table_sql=\"\"\"\n",
    "    CREATE TABLE IF NOT EXISTS records(\n",
    "        id INTEGER PRIMARY KEY,\n",
    "        source TEXT NOT NULL,\n",
    "        source_type TEXT NOT NULL,\n",
    "        attributed BOOL,\n",
    "        customers INTEGER\n",
    "    );\n",
    "    \"\"\"\n",
    "    try:\n",
    "        c = conn.cursor()\n",
    "        c.execute(create_table_sql)\n",
    "    except Error as e:\n",
    "        print(e)\n",
    "\n",
    "def list_tables(conn):\n",
    "    try:\n",
    "        cursor = conn.cursor()\n",
    "        cursor.execute(\"SELECT name FROM sqlite_master WHERE type='table';\")\n",
    "        tables = cursor.fetchall()\n",
    "        return [table[0] for table in tables]\n",
    "    except sqlite3.Error as e:\n",
    "        print(\"Error:\", e)\n",
    "        return []\n",
    "\n",
    "conn = create_connection(\"/home/cristi/Documents/practica/database/ClientDB/Clients.db\")\n",
    "create_client_periods_table(conn)\n",
    "create_records_table(conn)\n",
    "tables = list_tables(conn)\n",
    "for table in tables:\n",
    "    print(table)"
   ]
  },
  {
   "cell_type": "code",
   "execution_count": 3,
   "metadata": {},
   "outputs": [],
   "source": [
    "def insert_to_clients_periods(conn,clientid,period,att,unatt,cr):\n",
    "    insertion_str=\"\"\"INSERT INTO clients_periods VALUES (? ? ? ? ?)\"\"\"\n",
    "    "
   ]
  },
  {
   "cell_type": "code",
   "execution_count": 4,
   "metadata": {},
   "outputs": [],
   "source": [
    "def load_from_json_to_db(conn):\n",
    "    client_records=[]\n",
    "    with open(\"/home/cristi/Documents/practica/clients_per_day.json\",'r') as f:\n",
    "        client_data=json.load(f)\n",
    "    for client in client_data:\n",
    "        print(client)\n",
    "        for period in client_data[client]:\n",
    "            print(period)\n",
    "    return client_records"
   ]
  },
  {
   "cell_type": "code",
   "execution_count": 5,
   "metadata": {},
   "outputs": [
    {
     "name": "stdout",
     "output_type": "stream",
     "text": [
      "1446518931\n",
      "2023-01-02T08:00:00+0000\n"
     ]
    },
    {
     "ename": "KeyError",
     "evalue": "'ATTRIBUTED'",
     "output_type": "error",
     "traceback": [
      "\u001b[0;31m---------------------------------------------------------------------------\u001b[0m",
      "\u001b[0;31mKeyError\u001b[0m                                  Traceback (most recent call last)",
      "\u001b[1;32m/home/cristi/Documents/practica/database/dbpy/dbpy.ipynb Cell 5\u001b[0m line \u001b[0;36m1\n\u001b[0;32m----> <a href='vscode-notebook-cell:/home/cristi/Documents/practica/database/dbpy/dbpy.ipynb#W4sZmlsZQ%3D%3D?line=0'>1</a>\u001b[0m load_from_json_to_db(conn)\n",
      "\u001b[1;32m/home/cristi/Documents/practica/database/dbpy/dbpy.ipynb Cell 5\u001b[0m line \u001b[0;36m1\n\u001b[1;32m      <a href='vscode-notebook-cell:/home/cristi/Documents/practica/database/dbpy/dbpy.ipynb#W4sZmlsZQ%3D%3D?line=7'>8</a>\u001b[0m \u001b[39mprint\u001b[39m(period)\n\u001b[1;32m      <a href='vscode-notebook-cell:/home/cristi/Documents/practica/database/dbpy/dbpy.ipynb#W4sZmlsZQ%3D%3D?line=8'>9</a>\u001b[0m \u001b[39mfor\u001b[39;00m attributions \u001b[39min\u001b[39;00m client_data[client][period]:\n\u001b[0;32m---> <a href='vscode-notebook-cell:/home/cristi/Documents/practica/database/dbpy/dbpy.ipynb#W4sZmlsZQ%3D%3D?line=9'>10</a>\u001b[0m     attributed\u001b[39m=\u001b[39mclient_data[client][period][\u001b[39m\"\u001b[39;49m\u001b[39mATTRIBUTED\u001b[39;49m\u001b[39m\"\u001b[39;49m]\n\u001b[1;32m     <a href='vscode-notebook-cell:/home/cristi/Documents/practica/database/dbpy/dbpy.ipynb#W4sZmlsZQ%3D%3D?line=10'>11</a>\u001b[0m     unattributed\u001b[39m=\u001b[39mclient_data[client][period][\u001b[39m\"\u001b[39m\u001b[39mUNATTRIBUTED\u001b[39m\u001b[39m\"\u001b[39m]\n\u001b[1;32m     <a href='vscode-notebook-cell:/home/cristi/Documents/practica/database/dbpy/dbpy.ipynb#W4sZmlsZQ%3D%3D?line=11'>12</a>\u001b[0m     cr\u001b[39m=\u001b[39mclient_data[client][period][\u001b[39m\"\u001b[39m\u001b[39mCR\u001b[39m\u001b[39m\"\u001b[39m]\n",
      "\u001b[0;31mKeyError\u001b[0m: 'ATTRIBUTED'"
     ]
    }
   ],
   "source": [
    "load_from_json_to_db(conn)\n",
    "\n",
    "        \n"
   ]
  }
 ],
 "metadata": {
  "kernelspec": {
   "display_name": "Python 3",
   "language": "python",
   "name": "python3"
  },
  "language_info": {
   "codemirror_mode": {
    "name": "ipython",
    "version": 3
   },
   "file_extension": ".py",
   "mimetype": "text/x-python",
   "name": "python",
   "nbconvert_exporter": "python",
   "pygments_lexer": "ipython3",
   "version": "3.11.5"
  },
  "orig_nbformat": 4
 },
 "nbformat": 4,
 "nbformat_minor": 2
}
