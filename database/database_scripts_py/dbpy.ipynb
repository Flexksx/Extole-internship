{
 "cells": [
  {
   "cell_type": "code",
   "execution_count": 208,
   "metadata": {},
   "outputs": [],
   "source": [
    "import sqlite3\n",
    "from sqlite3 import Error\n",
    "import json"
   ]
  },
  {
   "cell_type": "code",
   "execution_count": 209,
   "metadata": {},
   "outputs": [
    {
     "name": "stdout",
     "output_type": "stream",
     "text": [
      "clients_periods\n",
      "sqlite_sequence\n",
      "records\n"
     ]
    }
   ],
   "source": [
    "import sqlite3\n",
    "from sqlite3 import Error\n",
    "\n",
    "\n",
    "def create_connection(db_file):\n",
    "    \"\"\" create a database connection to the SQLite database\n",
    "        specified by db_file\n",
    "    :param db_file: database file\n",
    "    :return: Connection object or None\n",
    "    \"\"\"\n",
    "    conn = None\n",
    "    try:\n",
    "        conn = sqlite3.connect(db_file)\n",
    "        return conn\n",
    "    except Error as e:\n",
    "        print(e)\n",
    "\n",
    "    return conn\n",
    "\n",
    "\n",
    "def create_client_periods_table(conn):\n",
    "    create_table_sql=\"\"\"CREATE TABLE IF NOT EXISTS clients_periods (\n",
    "    id INTEGER PRIMARY KEY AUTOINCREMENT,\n",
    "    client_id TEXT NOT NULL,\n",
    "    period_end TEXT NOT NULL,\n",
    "    attribution INTEGER,\n",
    "    total_customers INTEGER,\n",
    "    contribution_rate REAL\n",
    ");\"\"\"\n",
    "    try:\n",
    "        c = conn.cursor()\n",
    "        c.execute(create_table_sql)\n",
    "    except Error as e:\n",
    "        print(e)\n",
    "\n",
    "\n",
    "def create_records_table(conn):\n",
    "    create_table_sql = \"\"\"\n",
    "    CREATE TABLE IF NOT EXISTS records (\n",
    "        id INTEGER PRIMARY KEY AUTOINCREMENT,\n",
    "        source TEXT NOT NULL,\n",
    "        source_type TEXT NOT NULL,\n",
    "        customers INTEGER,\n",
    "        contribution_rate REAL,\n",
    "        client_period_id INTEGER,\n",
    "        FOREIGN KEY (client_period_id) REFERENCES clients_periods (id)\n",
    "    );\n",
    "    \"\"\"\n",
    "    try:\n",
    "        c = conn.cursor()\n",
    "        c.execute(create_table_sql)\n",
    "    except Error as e:\n",
    "        print(e)\n",
    "        \n",
    "def list_tables(conn):\n",
    "    try:\n",
    "        cursor = conn.cursor()\n",
    "        cursor.execute(\"SELECT name FROM sqlite_master WHERE type='table';\")\n",
    "        tables = cursor.fetchall()\n",
    "        return [table[0] for table in tables]\n",
    "    except sqlite3.Error as e:\n",
    "        print(\"Error:\", e)\n",
    "        return []\n",
    "\n",
    "conn = create_connection(\"/home/cristi/Documents/practica/database/ClientDB/Clients.db\")\n",
    "create_client_periods_table(conn)\n",
    "create_records_table(conn)\n",
    "tables = list_tables(conn)\n",
    "for table in tables:\n",
    "    print(table)"
   ]
  },
  {
   "cell_type": "code",
   "execution_count": 210,
   "metadata": {},
   "outputs": [],
   "source": [
    "def insert_to_clients_periods(conn, data):\n",
    "    insertion_str = \"\"\"INSERT INTO clients_periods (period_end, client_id, attribution, total_customers, contribution_rate) VALUES (?, ?, ?, ?, ?)\"\"\"\n",
    "    cur = conn.cursor()\n",
    "    cur.executemany(insertion_str, data)\n",
    "    conn.commit()\n"
   ]
  },
  {
   "cell_type": "code",
   "execution_count": 211,
   "metadata": {},
   "outputs": [],
   "source": [
    "def insert_to_records(conn, data):\n",
    "    insertion_str=\"\"\"INSERT INTO records (source, source_type, customers, contribution_rate, client_period_id) VALUES (?, ?, ?, ?, ?)\"\"\"\n",
    "    cur = conn.cursor()\n",
    "    cur.executemany(insertion_str, data)\n",
    "    conn.commit()"
   ]
  },
  {
   "cell_type": "code",
   "execution_count": 212,
   "metadata": {},
   "outputs": [],
   "source": [
    "def load_data_from_json(conn):\n",
    "    client_data = []\n",
    "    record_data=[]\n",
    "    index=0\n",
    "    with open(\"/home/cristi/Documents/practica/clients_per_day.json\", 'r') as f:\n",
    "        client_json = json.load(f)\n",
    "    for client_id in client_json:\n",
    "        for period in client_json[client_id]:\n",
    "            date = period\n",
    "            attribution = client_json[client_id][period][\"attribution\"]\n",
    "            customers = client_json[client_id][period][\"customers\"]\n",
    "            cr = client_json[client_id][period][\"CR\"]\n",
    "            client_data.append((date, client_id, attribution, customers, cr))  # Reorder the values\n",
    "            index+=1\n",
    "            for record_dict in client_json[client_id][period][\"records\"]:\n",
    "                source=record_dict[\"source\"]\n",
    "                source_type=record_dict[\"source_type\"]\n",
    "                attribution=record_dict[\"attribution\"]\n",
    "                cr=record_dict[\"CR\"]\n",
    "                record_data.append((source,source_type, attribution,cr, index))\n",
    "    return client_data, record_data\n"
   ]
  },
  {
   "cell_type": "code",
   "execution_count": 213,
   "metadata": {},
   "outputs": [],
   "source": [
    "clients_periods_table, records_table=load_data_from_json(conn)\n",
    "# insert_to_clients_periods(conn,clients_periods_table)\n",
    "# insert_to_records(conn, records_table)"
   ]
  }
 ],
 "metadata": {
  "kernelspec": {
   "display_name": "Python 3",
   "language": "python",
   "name": "python3"
  },
  "language_info": {
   "codemirror_mode": {
    "name": "ipython",
    "version": 3
   },
   "file_extension": ".py",
   "mimetype": "text/x-python",
   "name": "python",
   "nbconvert_exporter": "python",
   "pygments_lexer": "ipython3",
   "version": "3.11.5"
  },
  "orig_nbformat": 4
 },
 "nbformat": 4,
 "nbformat_minor": 2
}
