{
 "cells": [
  {
   "cell_type": "code",
   "execution_count": 1,
   "id": "1142a7a3-f18f-4a25-bb06-8dea52b771a6",
   "metadata": {},
   "outputs": [],
   "source": [
    "import pandas as pd\n",
    "from datetime import datetime\n",
    "import os\n",
    "import path\n",
    "import clientprocessing as cp"
   ]
  },
  {
   "cell_type": "code",
   "execution_count": 2,
   "id": "fbb7e6ff-c212-4695-916c-fc45864c45a6",
   "metadata": {},
   "outputs": [
    {
     "name": "stdout",
     "output_type": "stream",
     "text": [
      "clients/\n"
     ]
    }
   ],
   "source": [
    "client_dict={}\n",
    "client_ids, df=cp.get_clients(give_df=True)\n"
   ]
  }
 ],
 "metadata": {
  "kernelspec": {
   "display_name": "Python 3 (ipykernel)",
   "language": "python",
   "name": "python3"
  },
  "language_info": {
   "codemirror_mode": {
    "name": "ipython",
    "version": 3
   },
   "file_extension": ".py",
   "mimetype": "text/x-python",
   "name": "python",
   "nbconvert_exporter": "python",
   "pygments_lexer": "ipython3",
   "version": "3.11.5"
  }
 },
 "nbformat": 4,
 "nbformat_minor": 5
}
