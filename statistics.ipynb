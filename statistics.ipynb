{
 "cells": [
  {
   "cell_type": "code",
   "execution_count": 1,
   "id": "1142a7a3-f18f-4a25-bb06-8dea52b771a6",
   "metadata": {},
   "outputs": [],
   "source": [
    "import pandas as pd\n",
    "from datetime import datetime\n",
    "import json"
   ]
  },
  {
   "cell_type": "code",
   "execution_count": 2,
   "id": "fbb7e6ff-c212-4695-916c-fc45864c45a6",
   "metadata": {},
   "outputs": [],
   "source": [
    "clients = {}\n",
    "df = pd.read_csv(\n",
    "    \"metricscontribution_rate_initiative_cross_client_data_1613_for_students.csv\")\n",
    "client_ids = df.client_id.unique()\n",
    "for client_id in client_ids:\n",
    "    client_id = str(client_id)\n",
    "    clients.update(dict({client_id: {}}))\n",
    "\n",
    "# print(clients)"
   ]
  },
  {
   "cell_type": "code",
   "execution_count": 3,
   "id": "562b971f",
   "metadata": {},
   "outputs": [],
   "source": [
    "for client_id in client_ids:\n",
    "    client_specific_df = df[df[\"client_id\"] == client_id][[\n",
    "        \"period_end\", \"source\", \"source_type\", \"attribution\", \"customers\"]]\n",
    "\n",
    "    periods = sorted(client_specific_df['period_end'].str[:10].unique())  # Sort the first 10 characters of the date strings\n",
    "\n",
    "    # Update the dictionary for the client with periods\n",
    "    period_dict = {}\n",
    "    for period in periods:\n",
    "        period_data = {}\n",
    "        # Find the nr of attributed and unattributed customers\n",
    "        period_df = client_specific_df[(client_specific_df['period_end'].str[:10] == period)]\n",
    "        attributed_customers = period_df[period_df['attribution'] == 'ATTRIBUTED']['customers'].sum()\n",
    "        unattributed_customers = period_df[period_df['attribution'] != 'ATTRIBUTED']['customers'].sum()\n",
    "        # Update the period data with the count of ATTRIBUTED and UNATTRIBUTED count\n",
    "        # and the contribution rate for this period\n",
    "        period_data[\"period\"] = period  # Use the first 10 characters of the date string\n",
    "        period_data[\"ATTRIBUTED\"] = int(attributed_customers)\n",
    "        period_data[\"UNATTRIBUTED\"] = int(unattributed_customers)\n",
    "        period_data[\"CR\"] = (attributed_customers / (attributed_customers + unattributed_customers) * 100)\n",
    "\n",
    "        # Find and all the records for the period\n",
    "        records = []\n",
    "        sources = period_df['source'].unique()\n",
    "        for source in period_df['source'].unique():\n",
    "            source_df = period_df[period_df['source'] == source]\n",
    "            source_data = {\n",
    "                'source': str(source),  # Include source name\n",
    "                'source_type': str(source_df.iloc[0]['source_type']),\n",
    "                'ATTRIBUTED': str(source_df['attribution'].eq('ATTRIBUTED').any()),\n",
    "                'customers': int(source_df['customers'].sum())\n",
    "            }\n",
    "            records.append(source_data)\n",
    "\n",
    "        period_data[\"records\"] = records\n",
    "        # Append the period data to the list for this client\n",
    "        period_dict[period] = period_data  # Use the first 10 characters of the date string\n",
    "\n",
    "    # Add everything to the final dictionary for this client\n",
    "    clients[str(client_id)] = period_dict\n"
   ]
  },
  {
   "cell_type": "code",
   "execution_count": 4,
   "id": "71f64b1b",
   "metadata": {},
   "outputs": [
    {
     "name": "stdout",
     "output_type": "stream",
     "text": [
      "{'period': '2023-02-12', 'ATTRIBUTED': 1, 'UNATTRIBUTED': 38, 'CR': 2.564102564102564, 'records': [{'source': 'direct', 'source_type': 'link', 'ATTRIBUTED': 'False', 'customers': 38}, {'source': 'friend_landing_experience', 'source_type': 'link', 'ATTRIBUTED': 'True', 'customers': 1}]}\n"
     ]
    }
   ],
   "source": [
    "print(clients[\"2074305340\"][\"2023-02-12\"])\n",
    "file_path = \"clients.json\"\n",
    "json_string = json.dumps(clients)\n",
    "with open(file_path, 'w') as f:\n",
    "    f.write(json_string)"
   ]
  }
 ],
 "metadata": {
  "kernelspec": {
   "display_name": "Python 3 (ipykernel)",
   "language": "python",
   "name": "python3"
  },
  "language_info": {
   "codemirror_mode": {
    "name": "ipython",
    "version": 3
   },
   "file_extension": ".py",
   "mimetype": "text/x-python",
   "name": "python",
   "nbconvert_exporter": "python",
   "pygments_lexer": "ipython3",
   "version": "3.11.5"
  }
 },
 "nbformat": 4,
 "nbformat_minor": 5
}
