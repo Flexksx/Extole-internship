{
 "cells": [
  {
   "cell_type": "code",
   "execution_count": 15,
   "id": "1142a7a3-f18f-4a25-bb06-8dea52b771a6",
   "metadata": {},
   "outputs": [],
   "source": [
    "import pandas as pd\n",
    "from datetime import datetime\n",
    "import json"
   ]
  },
  {
   "cell_type": "code",
   "execution_count": 16,
   "id": "fbb7e6ff-c212-4695-916c-fc45864c45a6",
   "metadata": {},
   "outputs": [
    {
     "name": "stdout",
     "output_type": "stream",
     "text": [
      "{'1352108802': {}, '89281547': {}, '339825126': {}, '742770953': {}, '377235927': {}, '182523248': {}, '730912930': {}, '1890430896': {}, '146585525': {}, '1434827787': {}, '1588923963': {}, '1914596938': {}, '1991713172': {}, '930615366': {}, '962653': {}, '457842566': {}, '722889138': {}, '3045573': {}, '160484': {}, '141188634': {}, '1747449748': {}, '280972987': {}, '1343786340': {}, '1842186254': {}, '20028': {}, '1371350591': {}, '1094173963': {}, '2038648932': {}, '247049371': {}, '1222305620': {}, '44548903': {}, '1774320619': {}, '60253197': {}, '1039272198': {}, '232323': {}, '1999564604': {}, '1700828332': {}, '2024025171': {}, '1683841519': {}, '1444792769': {}, '883524406': {}, '360285558': {}, '470065716': {}, '1887255116': {}, '674982001': {}, '1348048562': {}, '1662358249': {}, '447268576': {}, '1167515548': {}, '204907870': {}, '601976963': {}, '957010757': {}, '2035193665': {}, '1288402200': {}, '32535': {}, '848061486': {}, '203634036': {}, '1816143665': {}, '546503495': {}, '1432127718': {}, '1988299953': {}, '872040414': {}, '383296330': {}, '1579448075': {}, '2131529793': {}, '766534239': {}, '1460238515': {}, '82648851': {}, '1751373551': {}, '924293545': {}, '2095670782': {}, '1809861283': {}, '1699660387': {}, '309887139': {}, '347739522': {}, '414992': {}, '284494274': {}, '1599009796': {}, '1675722371': {}, '1949098738': {}, '1726636763': {}, '1750959136': {}, '1377144901': {}, '1738758411': {}, '1846860922': {}, '1364702340': {}, '633343619': {}, '1446518931': {}, '1369390496': {}, '1496345254': {}, '255093983': {}, '1980190186': {}, '297933030': {}, '1124773464': {}, '1697542054': {}, '1658415062': {}, '1737448214': {}, '329404128': {}, '86545': {}, '1896265216': {}, '21760749': {}, '763740199': {}, '1683745128': {}, '1555830020': {}, '1726734345': {}, '70555': {}, '8743': {}, '1867059269': {}, '79394782': {}, '603547002': {}, '1166788838': {}, '944738563': {}, '13658014': {}, '1843384910': {}, '1469805039': {}, '1736295694': {}, '668700215': {}, '1491854579': {}, '2097407425': {}, '920433853': {}, '2004781439': {}, '910009277': {}, '37246': {}, '1745456715': {}, '54698334': {}, '507482427': {}, '1223623319': {}, '543781750': {}, '689413563': {}, '1405888123': {}, '1093913700': {}, '1459003566': {}, '1880263558': {}, '1204230861': {}, '207145257': {}, '1933045607': {}, '1791685441': {}, '1574881376': {}, '537586234': {}, '547294244': {}, '78311644': {}, '661763358': {}, '169730877': {}, '2009064043': {}, '135073247': {}, '2122939298': {}, '566012097': {}, '504323048': {}, '2069796934': {}, '768981326': {}, '1896717131': {}, '351999602': {}, '1129766851': {}, '2080679645': {}, '1297181285': {}, '83860295': {}, '1176580244': {}, '832494786': {}, '141455584': {}, '284746735': {}, '1205598310': {}, '779677445': {}, '1078234616': {}, '510321846': {}, '2144500148': {}, '1920833458': {}, '7054939': {}, '1068880278': {}, '1841182910': {}, '154495769': {}, '627397298': {}, '90789': {}, '24029028': {}, '1663730933': {}, '969013864': {}, '1408669631': {}, '535178441': {}, '1295250244': {}, '1804650649': {}, '1053004586': {}, '1128881091': {}, '62816704': {}, '2081128649': {}, '910624326': {}, '5316606': {}, '2045558380': {}, '1361818596': {}, '550958335': {}, '90705': {}, '170949709': {}, '1560075269': {}, '697119901': {}, '512549859': {}, '783635406': {}, '851058486': {}, '345897713': {}, '303702211': {}, '969677746': {}, '1061279001': {}, '5315849': {}, '1654868709': {}, '343801000': {}, '365651697': {}, '662329723': {}, '964496020': {}, '21243602': {}, '709399880': {}, '282767801': {}, '79499540': {}, '1330959991': {}, '1528233037': {}, '1688178727': {}, '546286232': {}, '2092174473': {}, '1301643605': {}, '1179388675': {}, '1069930197': {}, '1163114109': {}, '567487638': {}, '1561586793': {}, '505889266': {}, '1245601188': {}, '1134294461': {}, '1822168340': {}, '1529360820': {}, '807935562': {}, '1681450971': {}, '2113150881': {}, '1042459952': {}, '526867458': {}, '1565565006': {}, '1930005314': {}, '55632185': {}, '1441296552': {}, '410774248': {}, '1007705046': {}, '1782458934': {}, '713690380': {}, '767338895': {}, '425947464': {}, '2027088246': {}, '222761709': {}, '645826007': {}, '1726334915': {}, '313324062': {}, '474837686': {}, '934889671': {}, '1678010327': {}, '1017378461': {}, '217783280': {}, '790013377': {}, '1283163689': {}, '581791995': {}, '1795279563': {}, '701187606': {}, '1936369469': {}, '102836844': {}, '870466947': {}, '654943926': {}, '646002382': {}, '2081651084': {}, '1106500674': {}, '353590424': {}, '1583631645': {}, '1106103300': {}, '917260159': {}, '1455625496': {}, '55491242': {}, '1390975179': {}, '1329192570': {}, '1544104793': {}, '632258522': {}, '2014606121': {}, '1373341550': {}, '546677526': {}, '1375637002': {}, '523943717': {}, '1711416236': {}, '1260877163': {}, '1661152740': {}, '701718561': {}, '796632867': {}, '385702078': {}, '294214455': {}, '395622361': {}, '1133145397': {}, '1689580875': {}, '1119256868': {}, '1811667966': {}, '2074305340': {}, '468336800': {}, '1520089570': {}, '1921718023': {}, '821162568': {}, '209556517': {}, '1510147127': {}, '1945868823': {}, '656028740': {}, '1029674504': {}, '104025908': {}, '670928296': {}, '5136141': {}, '1692366757': {}, '400807180': {}, '630221252': {}, '896357866': {}, '1395140874': {}, '1594085204': {}, '276389762': {}, '466990682': {}, '1727533498': {}, '1827307766': {}, '433820111': {}, '2099903033': {}, '202603402': {}, '238372702': {}, '643503739': {}, '1776169204': {}, '22216': {}, '2064872706': {}, '1554865006': {}, '324568764': {}, '1413809572': {}, '1090978961': {}, '738766762': {}, '1012776321': {}, '1239980956': {}, '841133454': {}, '752141408': {}, '151669642': {}, '1271074412': {}, '799096909': {}, '1274850123': {}, '1466087944': {}, '172338216': {}, '1699172835': {}, '793993232': {}, '1911015709': {}, '790582081': {}, '632741547': {}, '1951936707': {}, '646157076': {}, '1350462568': {}, '668635996': {}, '1181616550': {}}\n"
     ]
    }
   ],
   "source": [
    "clients = {}\n",
    "df = pd.read_csv(\n",
    "    \"metricscontribution_rate_initiative_cross_client_data_1613_for_students.csv\")\n",
    "clients_ids = df.client_id.unique()\n",
    "for client_id in client_ids:\n",
    "    client_id = str(client_id)\n",
    "    clients.update(dict({client_id: {}}))\n",
    "\n",
    "# print(clients)"
   ]
  },
  {
   "cell_type": "code",
   "execution_count": 39,
   "id": "562b971f",
   "metadata": {},
   "outputs": [],
   "source": [
    "for client_id in client_ids:\n",
    "    client_specific_df = df[df[\"client_id\"] == client_id][[\n",
    "        \"period_end\", \"source\", \"source_type\", \"attribution\", \"customers\"]]\n",
    "\n",
    "    periods = client_specific_df['period_end'].unique()\n",
    "\n",
    "    # Update the dictionary for the client with periods\n",
    "    period_dict = {}\n",
    "    for period in periods:\n",
    "        period_data = {}\n",
    "        # Find the nr of attributed and unattributed customers\n",
    "        period_df = client_specific_df[(\n",
    "            client_specific_df['period_end'] == period)]\n",
    "        attributed_customers = period_df[period_df['attribution']\n",
    "                                         == 'ATTRIBUTED']['customers'].sum()\n",
    "        unattributed_customers = period_df[period_df['attribution']\n",
    "                                           != 'ATTRIBUTED']['customers'].sum()\n",
    "        # Update the period data with the count of ATTRIBUTED and UNATTRIBUTED count\n",
    "        # and the contribution rate for this period\n",
    "        period_data[\"period\"] = period\n",
    "        period_data[\"ATTRIBUTED\"] = int(attributed_customers)\n",
    "        period_data[\"UNATTRIBUTED\"] = int(unattributed_customers)\n",
    "        period_data[\"CR\"] = (attributed_customers / (attributed_customers + unattributed_customers) * 100)\n",
    "\n",
    "        # Find and all the records for the period\n",
    "        records = []\n",
    "        sources = period_df['source'].unique()\n",
    "        for source in period_df['source'].unique():\n",
    "            source_df = period_df[period_df['source'] == source]\n",
    "            source_data = {\n",
    "                'source': str(source),  # Include source name\n",
    "                'source_type': str(source_df.iloc[0]['source_type']),\n",
    "                'ATTRIBUTED': source_df['attribution'].eq('ATTRIBUTED').any(),\n",
    "                'UNATTRIBUTED': source_df['attribution'].ne('ATTRIBUTED').any(),\n",
    "                'customers': int(source_df['customers'].sum())\n",
    "            }\n",
    "            records.append(source_data)\n",
    "\n",
    "        period_data[\"records\"] = records\n",
    "        # Append the period data to the list for this client\n",
    "        period_dict[period] = period_data\n",
    "\n",
    "    # Add everything to the final dictionary for this client\n",
    "    clients[str(client_id)] = period_dict\n"
   ]
  },
  {
   "cell_type": "code",
   "execution_count": 40,
   "id": "71f64b1b",
   "metadata": {},
   "outputs": [
    {
     "name": "stdout",
     "output_type": "stream",
     "text": [
      "{'period': '2023-02-12T00:00:00-08:00', 'ATTRIBUTED': 1, 'UNATTRIBUTED': 38, 'CR': 2.564102564102564, 'records': [{'source': 'direct', 'source_type': 'link', 'ATTRIBUTED': False, 'UNATTRIBUTED': True, 'customers': 38}, {'source': 'friend_landing_experience', 'source_type': 'link', 'ATTRIBUTED': True, 'UNATTRIBUTED': False, 'customers': 1}]}\n"
     ]
    },
    {
     "ename": "TypeError",
     "evalue": "Object of type bool_ is not JSON serializable",
     "output_type": "error",
     "traceback": [
      "\u001b[0;31m---------------------------------------------------------------------------\u001b[0m",
      "\u001b[0;31mTypeError\u001b[0m                                 Traceback (most recent call last)",
      "\u001b[1;32m/home/cristi/Documents/practica/statistics.ipynb Cell 4\u001b[0m line \u001b[0;36m3\n\u001b[1;32m      <a href='vscode-notebook-cell:/home/cristi/Documents/practica/statistics.ipynb#X14sZmlsZQ%3D%3D?line=0'>1</a>\u001b[0m \u001b[39mprint\u001b[39m(clients[\u001b[39m\"\u001b[39m\u001b[39m2074305340\u001b[39m\u001b[39m\"\u001b[39m][\u001b[39m\"\u001b[39m\u001b[39m2023-02-12T00:00:00-08:00\u001b[39m\u001b[39m\"\u001b[39m])\n\u001b[1;32m      <a href='vscode-notebook-cell:/home/cristi/Documents/practica/statistics.ipynb#X14sZmlsZQ%3D%3D?line=1'>2</a>\u001b[0m file_path \u001b[39m=\u001b[39m \u001b[39m\"\u001b[39m\u001b[39mclients.json\u001b[39m\u001b[39m\"\u001b[39m\n\u001b[0;32m----> <a href='vscode-notebook-cell:/home/cristi/Documents/practica/statistics.ipynb#X14sZmlsZQ%3D%3D?line=2'>3</a>\u001b[0m json_string \u001b[39m=\u001b[39m json\u001b[39m.\u001b[39;49mdumps(clients)\n\u001b[1;32m      <a href='vscode-notebook-cell:/home/cristi/Documents/practica/statistics.ipynb#X14sZmlsZQ%3D%3D?line=3'>4</a>\u001b[0m \u001b[39mwith\u001b[39;00m \u001b[39mopen\u001b[39m(file_path, \u001b[39m'\u001b[39m\u001b[39mw\u001b[39m\u001b[39m'\u001b[39m) \u001b[39mas\u001b[39;00m f:\n\u001b[1;32m      <a href='vscode-notebook-cell:/home/cristi/Documents/practica/statistics.ipynb#X14sZmlsZQ%3D%3D?line=4'>5</a>\u001b[0m     f\u001b[39m.\u001b[39mwrite(json_string)\n",
      "File \u001b[0;32m/usr/lib64/python3.11/json/__init__.py:231\u001b[0m, in \u001b[0;36mdumps\u001b[0;34m(obj, skipkeys, ensure_ascii, check_circular, allow_nan, cls, indent, separators, default, sort_keys, **kw)\u001b[0m\n\u001b[1;32m    226\u001b[0m \u001b[39m# cached encoder\u001b[39;00m\n\u001b[1;32m    227\u001b[0m \u001b[39mif\u001b[39;00m (\u001b[39mnot\u001b[39;00m skipkeys \u001b[39mand\u001b[39;00m ensure_ascii \u001b[39mand\u001b[39;00m\n\u001b[1;32m    228\u001b[0m     check_circular \u001b[39mand\u001b[39;00m allow_nan \u001b[39mand\u001b[39;00m\n\u001b[1;32m    229\u001b[0m     \u001b[39mcls\u001b[39m \u001b[39mis\u001b[39;00m \u001b[39mNone\u001b[39;00m \u001b[39mand\u001b[39;00m indent \u001b[39mis\u001b[39;00m \u001b[39mNone\u001b[39;00m \u001b[39mand\u001b[39;00m separators \u001b[39mis\u001b[39;00m \u001b[39mNone\u001b[39;00m \u001b[39mand\u001b[39;00m\n\u001b[1;32m    230\u001b[0m     default \u001b[39mis\u001b[39;00m \u001b[39mNone\u001b[39;00m \u001b[39mand\u001b[39;00m \u001b[39mnot\u001b[39;00m sort_keys \u001b[39mand\u001b[39;00m \u001b[39mnot\u001b[39;00m kw):\n\u001b[0;32m--> 231\u001b[0m     \u001b[39mreturn\u001b[39;00m _default_encoder\u001b[39m.\u001b[39;49mencode(obj)\n\u001b[1;32m    232\u001b[0m \u001b[39mif\u001b[39;00m \u001b[39mcls\u001b[39m \u001b[39mis\u001b[39;00m \u001b[39mNone\u001b[39;00m:\n\u001b[1;32m    233\u001b[0m     \u001b[39mcls\u001b[39m \u001b[39m=\u001b[39m JSONEncoder\n",
      "File \u001b[0;32m/usr/lib64/python3.11/json/encoder.py:200\u001b[0m, in \u001b[0;36mJSONEncoder.encode\u001b[0;34m(self, o)\u001b[0m\n\u001b[1;32m    196\u001b[0m         \u001b[39mreturn\u001b[39;00m encode_basestring(o)\n\u001b[1;32m    197\u001b[0m \u001b[39m# This doesn't pass the iterator directly to ''.join() because the\u001b[39;00m\n\u001b[1;32m    198\u001b[0m \u001b[39m# exceptions aren't as detailed.  The list call should be roughly\u001b[39;00m\n\u001b[1;32m    199\u001b[0m \u001b[39m# equivalent to the PySequence_Fast that ''.join() would do.\u001b[39;00m\n\u001b[0;32m--> 200\u001b[0m chunks \u001b[39m=\u001b[39m \u001b[39mself\u001b[39;49m\u001b[39m.\u001b[39;49miterencode(o, _one_shot\u001b[39m=\u001b[39;49m\u001b[39mTrue\u001b[39;49;00m)\n\u001b[1;32m    201\u001b[0m \u001b[39mif\u001b[39;00m \u001b[39mnot\u001b[39;00m \u001b[39misinstance\u001b[39m(chunks, (\u001b[39mlist\u001b[39m, \u001b[39mtuple\u001b[39m)):\n\u001b[1;32m    202\u001b[0m     chunks \u001b[39m=\u001b[39m \u001b[39mlist\u001b[39m(chunks)\n",
      "File \u001b[0;32m/usr/lib64/python3.11/json/encoder.py:258\u001b[0m, in \u001b[0;36mJSONEncoder.iterencode\u001b[0;34m(self, o, _one_shot)\u001b[0m\n\u001b[1;32m    253\u001b[0m \u001b[39melse\u001b[39;00m:\n\u001b[1;32m    254\u001b[0m     _iterencode \u001b[39m=\u001b[39m _make_iterencode(\n\u001b[1;32m    255\u001b[0m         markers, \u001b[39mself\u001b[39m\u001b[39m.\u001b[39mdefault, _encoder, \u001b[39mself\u001b[39m\u001b[39m.\u001b[39mindent, floatstr,\n\u001b[1;32m    256\u001b[0m         \u001b[39mself\u001b[39m\u001b[39m.\u001b[39mkey_separator, \u001b[39mself\u001b[39m\u001b[39m.\u001b[39mitem_separator, \u001b[39mself\u001b[39m\u001b[39m.\u001b[39msort_keys,\n\u001b[1;32m    257\u001b[0m         \u001b[39mself\u001b[39m\u001b[39m.\u001b[39mskipkeys, _one_shot)\n\u001b[0;32m--> 258\u001b[0m \u001b[39mreturn\u001b[39;00m _iterencode(o, \u001b[39m0\u001b[39;49m)\n",
      "File \u001b[0;32m/usr/lib64/python3.11/json/encoder.py:180\u001b[0m, in \u001b[0;36mJSONEncoder.default\u001b[0;34m(self, o)\u001b[0m\n\u001b[1;32m    161\u001b[0m \u001b[39mdef\u001b[39;00m \u001b[39mdefault\u001b[39m(\u001b[39mself\u001b[39m, o):\n\u001b[1;32m    162\u001b[0m \u001b[39m    \u001b[39m\u001b[39m\"\"\"Implement this method in a subclass such that it returns\u001b[39;00m\n\u001b[1;32m    163\u001b[0m \u001b[39m    a serializable object for ``o``, or calls the base implementation\u001b[39;00m\n\u001b[1;32m    164\u001b[0m \u001b[39m    (to raise a ``TypeError``).\u001b[39;00m\n\u001b[0;32m   (...)\u001b[0m\n\u001b[1;32m    178\u001b[0m \n\u001b[1;32m    179\u001b[0m \u001b[39m    \"\"\"\u001b[39;00m\n\u001b[0;32m--> 180\u001b[0m     \u001b[39mraise\u001b[39;00m \u001b[39mTypeError\u001b[39;00m(\u001b[39mf\u001b[39m\u001b[39m'\u001b[39m\u001b[39mObject of type \u001b[39m\u001b[39m{\u001b[39;00mo\u001b[39m.\u001b[39m\u001b[39m__class__\u001b[39m\u001b[39m.\u001b[39m\u001b[39m__name__\u001b[39m\u001b[39m}\u001b[39;00m\u001b[39m \u001b[39m\u001b[39m'\u001b[39m\n\u001b[1;32m    181\u001b[0m                     \u001b[39mf\u001b[39m\u001b[39m'\u001b[39m\u001b[39mis not JSON serializable\u001b[39m\u001b[39m'\u001b[39m)\n",
      "\u001b[0;31mTypeError\u001b[0m: Object of type bool_ is not JSON serializable"
     ]
    }
   ],
   "source": [
    "print(clients[\"2074305340\"][\"2023-02-12T00:00:00-08:00\"])\n",
    "file_path = \"clients.json\"\n",
    "json_string = json.dumps(clients)\n",
    "with open(file_path, 'w') as f:\n",
    "    f.write(json_string)"
   ]
  }
 ],
 "metadata": {
  "kernelspec": {
   "display_name": "Python 3 (ipykernel)",
   "language": "python",
   "name": "python3"
  },
  "language_info": {
   "codemirror_mode": {
    "name": "ipython",
    "version": 3
   },
   "file_extension": ".py",
   "mimetype": "text/x-python",
   "name": "python",
   "nbconvert_exporter": "python",
   "pygments_lexer": "ipython3",
   "version": "3.11.5"
  }
 },
 "nbformat": 4,
 "nbformat_minor": 5
}
