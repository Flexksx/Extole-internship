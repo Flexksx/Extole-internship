{
 "cells": [
  {
   "cell_type": "code",
   "execution_count": 22,
   "metadata": {},
   "outputs": [],
   "source": [
    "import sqlite3\n",
    "import pandas as pd\n",
    "\n",
    "# Connect to the SQLite database\n",
    "conn = sqlite3.connect('/home/cristi/Documents/practica/database/ClientDB/Clients.db')\n",
    "\n",
    "# Read the CSV file into a Pandas DataFrame\n",
    "df = pd.read_csv('metricscontribution_rate_initiative_cross_client_data_1613_for_students (2).csv')\n",
    "\n",
    "# Iterate through the DataFrame and update the SQLite table\n",
    "for index, row in df.iterrows():\n",
    "    client_id = row['client_id']\n",
    "    vertical = row['vertical']\n",
    "\n",
    "    # Execute the SQL update query\n",
    "    update_query = f\"UPDATE clients SET field = '{vertical}' WHERE client_id = '{client_id}'\"\n",
    "    conn.execute(update_query)\n",
    "\n",
    "# Commit the changes and close the connection\n",
    "conn.commit()\n",
    "conn.close()\n"
   ]
  }
 ],
 "metadata": {
  "kernelspec": {
   "display_name": "Python 3",
   "language": "python",
   "name": "python3"
  },
  "language_info": {
   "codemirror_mode": {
    "name": "ipython",
    "version": 3
   },
   "file_extension": ".py",
   "mimetype": "text/x-python",
   "name": "python",
   "nbconvert_exporter": "python",
   "pygments_lexer": "ipython3",
   "version": "3.11.5"
  }
 },
 "nbformat": 4,
 "nbformat_minor": 2
}
