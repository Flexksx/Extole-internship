{
 "cells": [
  {
   "cell_type": "code",
   "execution_count": 6,
   "id": "1142a7a3-f18f-4a25-bb06-8dea52b771a6",
   "metadata": {},
   "outputs": [],
   "source": [
    "import pandas as pd\n",
    "from datetime import datetime\n",
    "import json"
   ]
  },
  {
   "cell_type": "code",
   "execution_count": 7,
   "id": "fbb7e6ff-c212-4695-916c-fc45864c45a6",
   "metadata": {},
   "outputs": [],
   "source": [
    "clients = {}\n",
    "df = pd.read_csv(\n",
    "    \"/Users/vintuss/practica-1/data_analysis/data _aggregation/students_data.csv\")\n",
    "client_ids = df.client_id.unique()\n",
    "for client_id in client_ids:\n",
    "    client_id = str(client_id)\n",
    "    clients.update(dict({client_id: {}}))\n",
    "\n",
    "# print(clients)"
   ]
  },
  {
   "cell_type": "code",
   "execution_count": 8,
   "id": "562b971f",
   "metadata": {},
   "outputs": [],
   "source": [
    "for client_id in client_ids:\n",
    "    client_specific_df = df[df[\"client_id\"] == client_id][[\n",
    "        \"period_end\", \"source\", \"source_type\", \"attribution\", \"customers\"]]\n",
    "\n",
    "    # Convert \"period_end\" to datetime with UTC and sort the DataFrame\n",
    "    client_specific_df[\"period_end\"] = pd.to_datetime(\n",
    "        client_specific_df[\"period_end\"], format=\"ISO8601\", utc=True)\n",
    "    client_specific_df = client_specific_df.sort_values(by=\"period_end\")\n",
    "\n",
    "    # Update the dictionary for the client with periods\n",
    "    period_dict = {}\n",
    "    periods = client_specific_df[\"period_end\"].unique()\n",
    "    for period in periods:\n",
    "        period_data = {}\n",
    "        period_df = client_specific_df[client_specific_df[\"period_end\"] == period]\n",
    "        # print(period_df)\n",
    "        # Find the number of attributed and unattributed customers\n",
    "        # Update the period data with the count of ATTRIBUTED and UNATTRIBUTED count\n",
    "        # and the contribution rate for this period\n",
    "        # Save the date in ISO8601 format\n",
    "        period_data[\"period\"] = period.isoformat()\n",
    "        attributed_customers = int(period_df['attribution'].sum())\n",
    "        period_data[\"attribution\"] = attributed_customers\n",
    "        total_customers = int(period_df['customers'].sum())\n",
    "        period_data[\"customers\"] = total_customers\n",
    "        # Calculate \"CR\" (Contribution Rate) safely\n",
    "        period_data[\"CR\"] = (attributed_customers / total_customers) * 100\n",
    "        # Find all the records for the period\n",
    "        records = []\n",
    "        sources = period_df['source'].unique()\n",
    "        for source in sources:\n",
    "            source_df = period_df[period_df['source'] == source]\n",
    "            attribution_per_source = source_df[\"attribution\"].sum()\n",
    "            contribution = float(attribution_per_source/total_customers * 100)\n",
    "            source_data = {\n",
    "                'source': str(source),\n",
    "                'source_type': str(source_df.iloc[0]['source_type']),\n",
    "                'attribution': int(attribution_per_source),\n",
    "                'CR': contribution,\n",
    "            }\n",
    "            records.append(source_data)\n",
    "\n",
    "        period_data[\"records\"] = records\n",
    "        # Append the period data to the list for this client\n",
    "        period_dict[period.strftime(\n",
    "            '%Y-%m-%dT%H:%M:%S%z')] = period_data\n",
    "\n",
    "    # Add everything to the final dictionary for this client\n",
    "    clients[str(client_id)] = period_dict"
   ]
  },
  {
   "cell_type": "code",
   "execution_count": null,
   "id": "71f64b1b",
   "metadata": {},
   "outputs": [
    {
     "name": "stdout",
     "output_type": "stream",
     "text": [
      "{'2023-01-02T00:00:00': {'period': '2023-01-02T00:00:00', 'ATTRIBUTED': 0, 'UNATTRIBUTED': 29, 'CR': 0.0, 'records': [{'source': 'direct', 'source_type': 'link', 'ATTRIBUTED': 'False', 'customers': 28}, {'source': 'global_footer', 'source_type': 'zone', 'ATTRIBUTED': 'False', 'customers': 1}]}, '2023-01-09T00:00:00': {'period': '2023-01-09T00:00:00', 'ATTRIBUTED': 0, 'UNATTRIBUTED': 34, 'CR': 0.0, 'records': [{'source': 'direct', 'source_type': 'link', 'ATTRIBUTED': 'False', 'customers': 33}, {'source': 'global_footer', 'source_type': 'zone', 'ATTRIBUTED': 'False', 'customers': 1}]}, '2023-01-16T00:00:00': {'period': '2023-01-16T00:00:00', 'ATTRIBUTED': 0, 'UNATTRIBUTED': 31, 'CR': 0.0, 'records': [{'source': 'direct', 'source_type': 'link', 'ATTRIBUTED': 'False', 'customers': 30}, {'source': 'advocate_welcome_email', 'source_type': 'link', 'ATTRIBUTED': 'False', 'customers': 1}]}, '2023-01-23T00:00:00': {'period': '2023-01-23T00:00:00', 'ATTRIBUTED': 0, 'UNATTRIBUTED': 40, 'CR': 0.0, 'records': [{'source': 'direct', 'source_type': 'link', 'ATTRIBUTED': 'False', 'customers': 38}, {'source': 'advocate_welcome_email', 'source_type': 'link', 'ATTRIBUTED': 'False', 'customers': 1}, {'source': 'global_footer', 'source_type': 'zone', 'ATTRIBUTED': 'False', 'customers': 1}]}, '2023-01-30T00:00:00': {'period': '2023-01-30T00:00:00', 'ATTRIBUTED': 0, 'UNATTRIBUTED': 21, 'CR': 0.0, 'records': [{'source': 'direct', 'source_type': 'link', 'ATTRIBUTED': 'False', 'customers': 21}]}, '2023-02-06T00:00:00': {'period': '2023-02-06T00:00:00', 'ATTRIBUTED': 0, 'UNATTRIBUTED': 25, 'CR': 0.0, 'records': [{'source': 'direct', 'source_type': 'link', 'ATTRIBUTED': 'False', 'customers': 24}, {'source': 'friend_landing_experience', 'source_type': 'link', 'ATTRIBUTED': 'False', 'customers': 1}]}, '2023-02-13T00:00:00': {'period': '2023-02-13T00:00:00', 'ATTRIBUTED': 0, 'UNATTRIBUTED': 26, 'CR': 0.0, 'records': [{'source': 'direct', 'source_type': 'link', 'ATTRIBUTED': 'False', 'customers': 26}]}, '2023-02-20T00:00:00': {'period': '2023-02-20T00:00:00', 'ATTRIBUTED': 0, 'UNATTRIBUTED': 37, 'CR': 0.0, 'records': [{'source': 'direct', 'source_type': 'link', 'ATTRIBUTED': 'False', 'customers': 37}]}, '2023-02-27T00:00:00': {'period': '2023-02-27T00:00:00', 'ATTRIBUTED': 0, 'UNATTRIBUTED': 42, 'CR': 0.0, 'records': [{'source': 'direct', 'source_type': 'link', 'ATTRIBUTED': 'False', 'customers': 42}]}, '2023-03-06T00:00:00': {'period': '2023-03-06T00:00:00', 'ATTRIBUTED': 0, 'UNATTRIBUTED': 28, 'CR': 0.0, 'records': [{'source': 'direct', 'source_type': 'link', 'ATTRIBUTED': 'False', 'customers': 28}]}, '2023-03-13T00:00:00': {'period': '2023-03-13T00:00:00', 'ATTRIBUTED': 0, 'UNATTRIBUTED': 32, 'CR': 0.0, 'records': [{'source': 'direct', 'source_type': 'link', 'ATTRIBUTED': 'False', 'customers': 32}]}, '2023-03-20T00:00:00': {'period': '2023-03-20T00:00:00', 'ATTRIBUTED': 0, 'UNATTRIBUTED': 34, 'CR': 0.0, 'records': [{'source': 'direct', 'source_type': 'link', 'ATTRIBUTED': 'False', 'customers': 34}]}, '2023-03-27T00:00:00': {'period': '2023-03-27T00:00:00', 'ATTRIBUTED': 0, 'UNATTRIBUTED': 28, 'CR': 0.0, 'records': [{'source': 'direct', 'source_type': 'link', 'ATTRIBUTED': 'False', 'customers': 28}]}, '2023-04-03T00:00:00': {'period': '2023-04-03T00:00:00', 'ATTRIBUTED': 0, 'UNATTRIBUTED': 27, 'CR': 0.0, 'records': [{'source': 'direct', 'source_type': 'link', 'ATTRIBUTED': 'False', 'customers': 27}]}, '2023-04-10T00:00:00': {'period': '2023-04-10T00:00:00', 'ATTRIBUTED': 0, 'UNATTRIBUTED': 36, 'CR': 0.0, 'records': [{'source': 'direct', 'source_type': 'link', 'ATTRIBUTED': 'False', 'customers': 36}]}, '2023-04-17T00:00:00': {'period': '2023-04-17T00:00:00', 'ATTRIBUTED': 0, 'UNATTRIBUTED': 43, 'CR': 0.0, 'records': [{'source': 'direct', 'source_type': 'link', 'ATTRIBUTED': 'False', 'customers': 43}]}, '2023-04-24T00:00:00': {'period': '2023-04-24T00:00:00', 'ATTRIBUTED': 0, 'UNATTRIBUTED': 41, 'CR': 0.0, 'records': [{'source': 'direct', 'source_type': 'link', 'ATTRIBUTED': 'False', 'customers': 41}]}, '2023-05-01T00:00:00': {'period': '2023-05-01T00:00:00', 'ATTRIBUTED': 0, 'UNATTRIBUTED': 46, 'CR': 0.0, 'records': [{'source': 'direct', 'source_type': 'link', 'ATTRIBUTED': 'False', 'customers': 46}]}, '2023-05-08T00:00:00': {'period': '2023-05-08T00:00:00', 'ATTRIBUTED': 0, 'UNATTRIBUTED': 63, 'CR': 0.0, 'records': [{'source': 'direct', 'source_type': 'link', 'ATTRIBUTED': 'False', 'customers': 62}, {'source': 'global_footer', 'source_type': 'link', 'ATTRIBUTED': 'False', 'customers': 1}]}, '2023-05-15T00:00:00': {'period': '2023-05-15T00:00:00', 'ATTRIBUTED': 0, 'UNATTRIBUTED': 57, 'CR': 0.0, 'records': [{'source': 'direct', 'source_type': 'link', 'ATTRIBUTED': 'False', 'customers': 56}, {'source': 'advocate_welcome_email', 'source_type': 'link', 'ATTRIBUTED': 'False', 'customers': 1}]}, '2023-05-22T00:00:00': {'period': '2023-05-22T00:00:00', 'ATTRIBUTED': 0, 'UNATTRIBUTED': 51, 'CR': 0.0, 'records': [{'source': 'direct', 'source_type': 'link', 'ATTRIBUTED': 'False', 'customers': 50}, {'source': 'global_footer', 'source_type': 'link', 'ATTRIBUTED': 'False', 'customers': 1}]}, '2023-05-29T00:00:00': {'period': '2023-05-29T00:00:00', 'ATTRIBUTED': 0, 'UNATTRIBUTED': 41, 'CR': 0.0, 'records': [{'source': 'direct', 'source_type': 'link', 'ATTRIBUTED': 'False', 'customers': 41}]}, '2023-06-05T00:00:00': {'period': '2023-06-05T00:00:00', 'ATTRIBUTED': 0, 'UNATTRIBUTED': 42, 'CR': 0.0, 'records': [{'source': 'direct', 'source_type': 'link', 'ATTRIBUTED': 'False', 'customers': 42}]}, '2023-06-12T00:00:00': {'period': '2023-06-12T00:00:00', 'ATTRIBUTED': 0, 'UNATTRIBUTED': 25, 'CR': 0.0, 'records': [{'source': 'direct', 'source_type': 'link', 'ATTRIBUTED': 'False', 'customers': 25}]}, '2023-06-19T00:00:00': {'period': '2023-06-19T00:00:00', 'ATTRIBUTED': 0, 'UNATTRIBUTED': 39, 'CR': 0.0, 'records': [{'source': 'direct', 'source_type': 'link', 'ATTRIBUTED': 'False', 'customers': 39}]}, '2023-06-26T00:00:00': {'period': '2023-06-26T00:00:00', 'ATTRIBUTED': 0, 'UNATTRIBUTED': 33, 'CR': 0.0, 'records': [{'source': 'direct', 'source_type': 'link', 'ATTRIBUTED': 'False', 'customers': 33}]}, '2023-07-03T00:00:00': {'period': '2023-07-03T00:00:00', 'ATTRIBUTED': 0, 'UNATTRIBUTED': 11, 'CR': 0.0, 'records': [{'source': 'direct', 'source_type': 'link', 'ATTRIBUTED': 'False', 'customers': 11}]}, '2023-07-10T00:00:00': {'period': '2023-07-10T00:00:00', 'ATTRIBUTED': 0, 'UNATTRIBUTED': 14, 'CR': 0.0, 'records': [{'source': 'direct', 'source_type': 'link', 'ATTRIBUTED': 'False', 'customers': 14}]}, '2023-07-17T00:00:00': {'period': '2023-07-17T00:00:00', 'ATTRIBUTED': 0, 'UNATTRIBUTED': 14, 'CR': 0.0, 'records': [{'source': 'direct', 'source_type': 'link', 'ATTRIBUTED': 'False', 'customers': 14}]}, '2023-07-24T00:00:00': {'period': '2023-07-24T00:00:00', 'ATTRIBUTED': 0, 'UNATTRIBUTED': 18, 'CR': 0.0, 'records': [{'source': 'direct', 'source_type': 'link', 'ATTRIBUTED': 'False', 'customers': 17}, {'source': 'friend_landing_experience', 'source_type': 'link', 'ATTRIBUTED': 'False', 'customers': 1}]}, '2023-07-31T00:00:00': {'period': '2023-07-31T00:00:00', 'ATTRIBUTED': 0, 'UNATTRIBUTED': 9, 'CR': 0.0, 'records': [{'source': 'direct', 'source_type': 'link', 'ATTRIBUTED': 'False', 'customers': 9}]}, '2023-08-07T00:00:00': {'period': '2023-08-07T00:00:00', 'ATTRIBUTED': 0, 'UNATTRIBUTED': 9, 'CR': 0.0, 'records': [{'source': 'direct', 'source_type': 'link', 'ATTRIBUTED': 'False', 'customers': 9}]}, '2023-08-14T00:00:00': {'period': '2023-08-14T00:00:00', 'ATTRIBUTED': 0, 'UNATTRIBUTED': 29, 'CR': 0.0, 'records': [{'source': 'direct', 'source_type': 'link', 'ATTRIBUTED': 'False', 'customers': 29}]}, '2023-08-21T00:00:00': {'period': '2023-08-21T00:00:00', 'ATTRIBUTED': 0, 'UNATTRIBUTED': 20, 'CR': 0.0, 'records': [{'source': 'direct', 'source_type': 'link', 'ATTRIBUTED': 'False', 'customers': 20}]}, '2023-08-28T00:00:00': {'period': '2023-08-28T00:00:00', 'ATTRIBUTED': 0, 'UNATTRIBUTED': 10, 'CR': 0.0, 'records': [{'source': 'direct', 'source_type': 'link', 'ATTRIBUTED': 'False', 'customers': 10}]}}\n"
     ]
    }
   ],
   "source": [
    "print(clients[\"2074305340\"])\n",
    "file_path = \"clients_per_day.json\"\n",
    "json_string = json.dumps(clients)\n",
    "with open(file_path, 'w') as f:\n",
    "    f.write(json_string)"
   ]
  }
 ],
 "metadata": {
  "kernelspec": {
   "display_name": "Python 3 (ipykernel)",
   "language": "python",
   "name": "python3"
  },
  "language_info": {
   "codemirror_mode": {
    "name": "ipython",
    "version": 3
   },
   "file_extension": ".py",
   "mimetype": "text/x-python",
   "name": "python",
   "nbconvert_exporter": "python",
   "pygments_lexer": "ipython3",
   "version": "3.9.6"
  }
 },
 "nbformat": 4,
 "nbformat_minor": 5
}
